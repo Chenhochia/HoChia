{
 "cells": [
  {
   "cell_type": "code",
   "execution_count": 1,
   "metadata": {},
   "outputs": [
    {
     "name": "stdout",
     "output_type": "stream",
     "text": [
      "請輸入查詢數值: 136\n",
      "136的因數: 1 2 4 8 17 34 68 136 \n",
      "程式結束\n"
     ]
    }
   ],
   "source": [
    "import pyinputplus as pypi\n",
    "\n",
    "mun = pypi.inputInt(\"請輸入查詢數值: \",min=1)\n",
    "print(mun)\n",
    "\n",
    "print(f\"{mun}的因數: \",end='')\n",
    "for i in range(1,mun+1):\n",
    "    u = mun%i\n",
    "    if u==0:\n",
    "        print(i ,end=' ')\n",
    "print()\n",
    "print(\"程式結束\")"
   ]
  }
 ],
 "metadata": {
  "kernelspec": {
   "display_name": "Python 3",
   "language": "python",
   "name": "python3"
  },
  "language_info": {
   "codemirror_mode": {
    "name": "ipython",
    "version": 3
   },
   "file_extension": ".py",
   "mimetype": "text/x-python",
   "name": "python",
   "nbconvert_exporter": "python",
   "pygments_lexer": "ipython3",
   "version": "3.10.14"
  }
 },
 "nbformat": 4,
 "nbformat_minor": 2
}
